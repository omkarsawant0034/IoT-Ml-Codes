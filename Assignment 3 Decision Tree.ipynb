{
 "cells": [
  {
   "cell_type": "code",
   "execution_count": 2,
   "id": "e459c196",
   "metadata": {},
   "outputs": [],
   "source": [
    "import numpy as np\n",
    "import pandas as pd\n",
    "import seaborn as sns\n",
    "import matplotlib.pyplot as plt"
   ]
  },
  {
   "cell_type": "code",
   "execution_count": 3,
   "id": "120aeca5",
   "metadata": {},
   "outputs": [
    {
     "data": {
      "text/html": [
       "<div>\n",
       "<style scoped>\n",
       "    .dataframe tbody tr th:only-of-type {\n",
       "        vertical-align: middle;\n",
       "    }\n",
       "\n",
       "    .dataframe tbody tr th {\n",
       "        vertical-align: top;\n",
       "    }\n",
       "\n",
       "    .dataframe thead th {\n",
       "        text-align: right;\n",
       "    }\n",
       "</style>\n",
       "<table border=\"1\" class=\"dataframe\">\n",
       "  <thead>\n",
       "    <tr style=\"text-align: right;\">\n",
       "      <th></th>\n",
       "      <th>Serial No.</th>\n",
       "      <th>GRE Score</th>\n",
       "      <th>TOEFL Score</th>\n",
       "      <th>University Rating</th>\n",
       "      <th>SOP</th>\n",
       "      <th>LOR</th>\n",
       "      <th>CGPA</th>\n",
       "      <th>Research</th>\n",
       "      <th>Chance of Admit</th>\n",
       "    </tr>\n",
       "  </thead>\n",
       "  <tbody>\n",
       "    <tr>\n",
       "      <th>0</th>\n",
       "      <td>1</td>\n",
       "      <td>337</td>\n",
       "      <td>118</td>\n",
       "      <td>4</td>\n",
       "      <td>4.5</td>\n",
       "      <td>4.5</td>\n",
       "      <td>9.65</td>\n",
       "      <td>1</td>\n",
       "      <td>0.92</td>\n",
       "    </tr>\n",
       "    <tr>\n",
       "      <th>1</th>\n",
       "      <td>2</td>\n",
       "      <td>324</td>\n",
       "      <td>107</td>\n",
       "      <td>4</td>\n",
       "      <td>4.0</td>\n",
       "      <td>4.5</td>\n",
       "      <td>8.87</td>\n",
       "      <td>1</td>\n",
       "      <td>0.76</td>\n",
       "    </tr>\n",
       "    <tr>\n",
       "      <th>2</th>\n",
       "      <td>3</td>\n",
       "      <td>316</td>\n",
       "      <td>104</td>\n",
       "      <td>3</td>\n",
       "      <td>3.0</td>\n",
       "      <td>3.5</td>\n",
       "      <td>8.00</td>\n",
       "      <td>1</td>\n",
       "      <td>0.72</td>\n",
       "    </tr>\n",
       "    <tr>\n",
       "      <th>3</th>\n",
       "      <td>4</td>\n",
       "      <td>322</td>\n",
       "      <td>110</td>\n",
       "      <td>3</td>\n",
       "      <td>3.5</td>\n",
       "      <td>2.5</td>\n",
       "      <td>8.67</td>\n",
       "      <td>1</td>\n",
       "      <td>0.80</td>\n",
       "    </tr>\n",
       "    <tr>\n",
       "      <th>4</th>\n",
       "      <td>5</td>\n",
       "      <td>314</td>\n",
       "      <td>103</td>\n",
       "      <td>2</td>\n",
       "      <td>2.0</td>\n",
       "      <td>3.0</td>\n",
       "      <td>8.21</td>\n",
       "      <td>0</td>\n",
       "      <td>0.65</td>\n",
       "    </tr>\n",
       "  </tbody>\n",
       "</table>\n",
       "</div>"
      ],
      "text/plain": [
       "   Serial No.  GRE Score  TOEFL Score  University Rating  SOP  LOR   CGPA  \\\n",
       "0           1        337          118                  4  4.5   4.5  9.65   \n",
       "1           2        324          107                  4  4.0   4.5  8.87   \n",
       "2           3        316          104                  3  3.0   3.5  8.00   \n",
       "3           4        322          110                  3  3.5   2.5  8.67   \n",
       "4           5        314          103                  2  2.0   3.0  8.21   \n",
       "\n",
       "   Research  Chance of Admit   \n",
       "0         1              0.92  \n",
       "1         1              0.76  \n",
       "2         1              0.72  \n",
       "3         1              0.80  \n",
       "4         0              0.65  "
      ]
     },
     "execution_count": 3,
     "metadata": {},
     "output_type": "execute_result"
    }
   ],
   "source": [
    "data = pd.read_csv('C:/Users/ACER/Downloads/Admission_Predict_Ver1.1.csv')\n",
    "data.head()"
   ]
  },
  {
   "cell_type": "code",
   "execution_count": 4,
   "id": "13c5b4fb",
   "metadata": {},
   "outputs": [
    {
     "data": {
      "text/plain": [
       "(500, 9)"
      ]
     },
     "execution_count": 4,
     "metadata": {},
     "output_type": "execute_result"
    }
   ],
   "source": [
    "data.shape"
   ]
  },
  {
   "cell_type": "code",
   "execution_count": 5,
   "id": "6d1a8106",
   "metadata": {},
   "outputs": [
    {
     "data": {
      "text/html": [
       "<div>\n",
       "<style scoped>\n",
       "    .dataframe tbody tr th:only-of-type {\n",
       "        vertical-align: middle;\n",
       "    }\n",
       "\n",
       "    .dataframe tbody tr th {\n",
       "        vertical-align: top;\n",
       "    }\n",
       "\n",
       "    .dataframe thead th {\n",
       "        text-align: right;\n",
       "    }\n",
       "</style>\n",
       "<table border=\"1\" class=\"dataframe\">\n",
       "  <thead>\n",
       "    <tr style=\"text-align: right;\">\n",
       "      <th></th>\n",
       "      <th>Serial No.</th>\n",
       "      <th>GRE Score</th>\n",
       "      <th>TOEFL Score</th>\n",
       "      <th>University Rating</th>\n",
       "      <th>SOP</th>\n",
       "      <th>LOR</th>\n",
       "      <th>CGPA</th>\n",
       "      <th>Research</th>\n",
       "      <th>Chance of Admit</th>\n",
       "    </tr>\n",
       "  </thead>\n",
       "  <tbody>\n",
       "    <tr>\n",
       "      <th>0</th>\n",
       "      <td>1</td>\n",
       "      <td>337</td>\n",
       "      <td>118</td>\n",
       "      <td>4</td>\n",
       "      <td>4.5</td>\n",
       "      <td>4.5</td>\n",
       "      <td>9.65</td>\n",
       "      <td>1</td>\n",
       "      <td>1</td>\n",
       "    </tr>\n",
       "    <tr>\n",
       "      <th>1</th>\n",
       "      <td>2</td>\n",
       "      <td>324</td>\n",
       "      <td>107</td>\n",
       "      <td>4</td>\n",
       "      <td>4.0</td>\n",
       "      <td>4.5</td>\n",
       "      <td>8.87</td>\n",
       "      <td>1</td>\n",
       "      <td>1</td>\n",
       "    </tr>\n",
       "    <tr>\n",
       "      <th>2</th>\n",
       "      <td>3</td>\n",
       "      <td>316</td>\n",
       "      <td>104</td>\n",
       "      <td>3</td>\n",
       "      <td>3.0</td>\n",
       "      <td>3.5</td>\n",
       "      <td>8.00</td>\n",
       "      <td>1</td>\n",
       "      <td>0</td>\n",
       "    </tr>\n",
       "    <tr>\n",
       "      <th>3</th>\n",
       "      <td>4</td>\n",
       "      <td>322</td>\n",
       "      <td>110</td>\n",
       "      <td>3</td>\n",
       "      <td>3.5</td>\n",
       "      <td>2.5</td>\n",
       "      <td>8.67</td>\n",
       "      <td>1</td>\n",
       "      <td>1</td>\n",
       "    </tr>\n",
       "    <tr>\n",
       "      <th>4</th>\n",
       "      <td>5</td>\n",
       "      <td>314</td>\n",
       "      <td>103</td>\n",
       "      <td>2</td>\n",
       "      <td>2.0</td>\n",
       "      <td>3.0</td>\n",
       "      <td>8.21</td>\n",
       "      <td>0</td>\n",
       "      <td>0</td>\n",
       "    </tr>\n",
       "  </tbody>\n",
       "</table>\n",
       "</div>"
      ],
      "text/plain": [
       "   Serial No.  GRE Score  TOEFL Score  University Rating  SOP  LOR   CGPA  \\\n",
       "0           1        337          118                  4  4.5   4.5  9.65   \n",
       "1           2        324          107                  4  4.0   4.5  8.87   \n",
       "2           3        316          104                  3  3.0   3.5  8.00   \n",
       "3           4        322          110                  3  3.5   2.5  8.67   \n",
       "4           5        314          103                  2  2.0   3.0  8.21   \n",
       "\n",
       "   Research  Chance of Admit   \n",
       "0         1                 1  \n",
       "1         1                 1  \n",
       "2         1                 0  \n",
       "3         1                 1  \n",
       "4         0                 0  "
      ]
     },
     "execution_count": 5,
     "metadata": {},
     "output_type": "execute_result"
    }
   ],
   "source": [
    "data['Chance of Admit '] = [1 if each > 0.75 else 0 for each in data['Chance of Admit ']]\n",
    "data.head()"
   ]
  },
  {
   "cell_type": "code",
   "execution_count": 6,
   "id": "461c2776",
   "metadata": {},
   "outputs": [],
   "source": [
    "x = data[['GRE Score', 'TOEFL Score', 'University Rating', 'SOP', 'LOR ', 'CGPA',\n",
    "       'Research']]\n",
    "\n",
    "y = data['Chance of Admit ']"
   ]
  },
  {
   "cell_type": "code",
   "execution_count": 7,
   "id": "91968140",
   "metadata": {},
   "outputs": [],
   "source": [
    "from sklearn.model_selection import train_test_split"
   ]
  },
  {
   "cell_type": "code",
   "execution_count": 8,
   "id": "d2d11ca8",
   "metadata": {},
   "outputs": [],
   "source": [
    "x_train, x_test, y_train, y_test = train_test_split(x,y,test_size=0.25,random_state=10)"
   ]
  },
  {
   "cell_type": "code",
   "execution_count": 9,
   "id": "e0e9e3d5",
   "metadata": {},
   "outputs": [
    {
     "name": "stdout",
     "output_type": "stream",
     "text": [
      "(375, 7)\n",
      "(375,)\n",
      "(125, 7)\n",
      "(125,)\n"
     ]
    }
   ],
   "source": [
    "print(x_train.shape)\n",
    "print(y_train.shape)\n",
    "print(x_test.shape)\n",
    "print(y_test.shape)"
   ]
  },
  {
   "cell_type": "code",
   "execution_count": 10,
   "id": "66ce8e1a",
   "metadata": {},
   "outputs": [],
   "source": [
    "from sklearn.tree import DecisionTreeRegressor"
   ]
  },
  {
   "cell_type": "code",
   "execution_count": 11,
   "id": "f7ef8f5a",
   "metadata": {},
   "outputs": [],
   "source": [
    "model_decisionTree = DecisionTreeRegressor(random_state=10)"
   ]
  },
  {
   "cell_type": "code",
   "execution_count": 12,
   "id": "a65db001",
   "metadata": {},
   "outputs": [],
   "source": [
    "model_decisionTree = model_decisionTree.fit(x_train,y_train)"
   ]
  },
  {
   "cell_type": "code",
   "execution_count": 13,
   "id": "efd1b285",
   "metadata": {},
   "outputs": [],
   "source": [
    "y_pred_decisiontree = model_decisionTree.predict(x_test)"
   ]
  },
  {
   "cell_type": "code",
   "execution_count": 14,
   "id": "08e75bf7",
   "metadata": {},
   "outputs": [],
   "source": [
    "from sklearn.metrics import ConfusionMatrixDisplay, accuracy_score\n",
    "from sklearn.metrics import classification_report"
   ]
  },
  {
   "cell_type": "code",
   "execution_count": 15,
   "id": "3e58cd71",
   "metadata": {},
   "outputs": [
    {
     "data": {
      "image/png": "[encoded data removed]",
      "text/plain": [
       "<Figure size 640x480 with 2 Axes>"
      ]
     },
     "metadata": {},
     "output_type": "display_data"
    }
   ],
   "source": [
    "ConfusionMatrixDisplay.from_predictions(y_test, y_pred_decisiontree)\n",
    "plt.title('Confusion matrix Representation')\n",
    "plt.show()"
   ]
  },
  {
   "cell_type": "code",
   "execution_count": 16,
   "id": "8576bfea",
   "metadata": {},
   "outputs": [
    {
     "data": {
      "text/plain": [
       "0.816"
      ]
     },
     "execution_count": 16,
     "metadata": {},
     "output_type": "execute_result"
    }
   ],
   "source": [
    "accuracy_score(y_test, y_pred_decisiontree)"
   ]
  },
  {
   "cell_type": "code",
   "execution_count": 17,
   "id": "0b8d3c22",
   "metadata": {},
   "outputs": [
    {
     "name": "stdout",
     "output_type": "stream",
     "text": [
      "              precision    recall  f1-score   support\n",
      "\n",
      "           0       0.86      0.80      0.83        69\n",
      "           1       0.77      0.84      0.80        56\n",
      "\n",
      "    accuracy                           0.82       125\n",
      "   macro avg       0.81      0.82      0.82       125\n",
      "weighted avg       0.82      0.82      0.82       125\n",
      "\n"
     ]
    }
   ],
   "source": [
    "print(classification_report(y_test, y_pred_decisiontree))"
   ]
  },
  {
   "cell_type": "code",
   "execution_count": 18,
   "id": "d694e1e0",
   "metadata": {},
   "outputs": [],
   "source": [
    "from sklearn import tree"
   ]
  },
  {
   "cell_type": "code",
   "execution_count": 19,
   "id": "120caec8",
   "metadata": {},
   "outputs": [
    {
     "data": {
      "text/plain": [
       "[Text(0.5709459459459459, 0.9545454545454546, 'x[5] <= 8.745\\nsquared_error = 0.242\\nsamples = 375\\nvalue = 0.411'),\n",
       " Text(0.3310810810810811, 0.8636363636363636, 'x[0] <= 318.5\\nsquared_error = 0.086\\nsamples = 231\\nvalue = 0.095'),\n",
       " Text(0.20270270270270271, 0.7727272727272727, 'x[5] <= 8.665\\nsquared_error = 0.039\\nsamples = 198\\nvalue = 0.04'),\n",
       " Text(0.10810810810810811, 0.6818181818181818, 'x[3] <= 3.75\\nsquared_error = 0.026\\nsamples = 187\\nvalue = 0.027'),\n",
       " Text(0.05405405405405406, 0.5909090909090909, 'x[1] <= 105.5\\nsquared_error = 0.012\\nsamples = 166\\nvalue = 0.012'),\n",
       " Text(0.02702702702702703, 0.5, 'squared_error = 0.0\\nsamples = 128\\nvalue = 0.0'),\n",
       " Text(0.08108108108108109, 0.5, 'x[6] <= 0.5\\nsquared_error = 0.05\\nsamples = 38\\nvalue = 0.053'),\n",
       " Text(0.05405405405405406, 0.4090909090909091, 'squared_error = 0.0\\nsamples = 25\\nvalue = 0.0'),\n",
       " Text(0.10810810810810811, 0.4090909090909091, 'x[0] <= 311.5\\nsquared_error = 0.13\\nsamples = 13\\nvalue = 0.154'),\n",
       " Text(0.08108108108108109, 0.3181818181818182, 'x[5] <= 8.13\\nsquared_error = 0.24\\nsamples = 5\\nvalue = 0.4'),\n",
       " Text(0.05405405405405406, 0.22727272727272727, 'squared_error = 0.0\\nsamples = 2\\nvalue = 0.0'),\n",
       " Text(0.10810810810810811, 0.22727272727272727, 'x[2] <= 2.5\\nsquared_error = 0.222\\nsamples = 3\\nvalue = 0.667'),\n",
       " Text(0.08108108108108109, 0.13636363636363635, 'squared_error = 0.0\\nsamples = 2\\nvalue = 1.0'),\n",
       " Text(0.13513513513513514, 0.13636363636363635, 'squared_error = 0.0\\nsamples = 1\\nvalue = 0.0'),\n",
       " Text(0.13513513513513514, 0.3181818181818182, 'squared_error = 0.0\\nsamples = 8\\nvalue = 0.0'),\n",
       " Text(0.16216216216216217, 0.5909090909090909, 'x[4] <= 3.75\\nsquared_error = 0.122\\nsamples = 21\\nvalue = 0.143'),\n",
       " Text(0.13513513513513514, 0.5, 'squared_error = 0.0\\nsamples = 11\\nvalue = 0.0'),\n",
       " Text(0.1891891891891892, 0.5, 'x[1] <= 101.0\\nsquared_error = 0.21\\nsamples = 10\\nvalue = 0.3'),\n",
       " Text(0.16216216216216217, 0.4090909090909091, 'squared_error = 0.0\\nsamples = 1\\nvalue = 1.0'),\n",
       " Text(0.21621621621621623, 0.4090909090909091, 'x[5] <= 8.46\\nsquared_error = 0.173\\nsamples = 9\\nvalue = 0.222'),\n",
       " Text(0.1891891891891892, 0.3181818181818182, 'x[2] <= 2.5\\nsquared_error = 0.24\\nsamples = 5\\nvalue = 0.4'),\n",
       " Text(0.16216216216216217, 0.22727272727272727, 'squared_error = 0.0\\nsamples = 2\\nvalue = 0.0'),\n",
       " Text(0.21621621621621623, 0.22727272727272727, 'x[3] <= 4.25\\nsquared_error = 0.222\\nsamples = 3\\nvalue = 0.667'),\n",
       " Text(0.1891891891891892, 0.13636363636363635, 'squared_error = 0.0\\nsamples = 1\\nvalue = 1.0'),\n",
       " Text(0.24324324324324326, 0.13636363636363635, 'x[4] <= 4.25\\nsquared_error = 0.25\\nsamples = 2\\nvalue = 0.5'),\n",
       " Text(0.21621621621621623, 0.045454545454545456, 'squared_error = 0.0\\nsamples = 1\\nvalue = 1.0'),\n",
       " Text(0.2702702702702703, 0.045454545454545456, 'squared_error = 0.0\\nsamples = 1\\nvalue = 0.0'),\n",
       " Text(0.24324324324324326, 0.3181818181818182, 'squared_error = 0.0\\nsamples = 4\\nvalue = 0.0'),\n",
       " Text(0.2972972972972973, 0.6818181818181818, 'x[5] <= 8.695\\nsquared_error = 0.198\\nsamples = 11\\nvalue = 0.273'),\n",
       " Text(0.2702702702702703, 0.5909090909090909, 'x[0] <= 312.5\\nsquared_error = 0.25\\nsamples = 6\\nvalue = 0.5'),\n",
       " Text(0.24324324324324326, 0.5, 'squared_error = 0.0\\nsamples = 2\\nvalue = 1.0'),\n",
       " Text(0.2972972972972973, 0.5, 'x[6] <= 0.5\\nsquared_error = 0.188\\nsamples = 4\\nvalue = 0.25'),\n",
       " Text(0.2702702702702703, 0.4090909090909091, 'squared_error = 0.0\\nsamples = 3\\nvalue = 0.0'),\n",
       " Text(0.32432432432432434, 0.4090909090909091, 'squared_error = 0.0\\nsamples = 1\\nvalue = 1.0'),\n",
       " Text(0.32432432432432434, 0.5909090909090909, 'squared_error = 0.0\\nsamples = 5\\nvalue = 0.0'),\n",
       " Text(0.4594594594594595, 0.7727272727272727, 'x[5] <= 8.63\\nsquared_error = 0.244\\nsamples = 33\\nvalue = 0.424'),\n",
       " Text(0.40540540540540543, 0.6818181818181818, 'x[1] <= 106.5\\nsquared_error = 0.16\\nsamples = 20\\nvalue = 0.2'),\n",
       " Text(0.3783783783783784, 0.5909090909090909, 'squared_error = 0.0\\nsamples = 10\\nvalue = 0.0'),\n",
       " Text(0.43243243243243246, 0.5909090909090909, 'x[5] <= 8.55\\nsquared_error = 0.24\\nsamples = 10\\nvalue = 0.4'),\n",
       " Text(0.40540540540540543, 0.5, 'x[1] <= 109.5\\nsquared_error = 0.245\\nsamples = 7\\nvalue = 0.571'),\n",
       " Text(0.3783783783783784, 0.4090909090909091, 'squared_error = 0.0\\nsamples = 2\\nvalue = 1.0'),\n",
       " Text(0.43243243243243246, 0.4090909090909091, 'x[0] <= 326.0\\nsquared_error = 0.24\\nsamples = 5\\nvalue = 0.4'),\n",
       " Text(0.40540540540540543, 0.3181818181818182, 'squared_error = 0.0\\nsamples = 3\\nvalue = 0.0'),\n",
       " Text(0.4594594594594595, 0.3181818181818182, 'squared_error = 0.0\\nsamples = 2\\nvalue = 1.0'),\n",
       " Text(0.4594594594594595, 0.5, 'squared_error = 0.0\\nsamples = 3\\nvalue = 0.0'),\n",
       " Text(0.5135135135135135, 0.6818181818181818, 'x[5] <= 8.665\\nsquared_error = 0.178\\nsamples = 13\\nvalue = 0.769'),\n",
       " Text(0.4864864864864865, 0.5909090909090909, 'squared_error = 0.0\\nsamples = 7\\nvalue = 1.0'),\n",
       " Text(0.5405405405405406, 0.5909090909090909, 'x[0] <= 324.0\\nsquared_error = 0.25\\nsamples = 6\\nvalue = 0.5'),\n",
       " Text(0.5135135135135135, 0.5, 'x[1] <= 106.5\\nsquared_error = 0.188\\nsamples = 4\\nvalue = 0.75'),\n",
       " Text(0.4864864864864865, 0.4090909090909091, 'squared_error = 0.0\\nsamples = 1\\nvalue = 0.0'),\n",
       " Text(0.5405405405405406, 0.4090909090909091, 'squared_error = 0.0\\nsamples = 3\\nvalue = 1.0'),\n",
       " Text(0.5675675675675675, 0.5, 'squared_error = 0.0\\nsamples = 2\\nvalue = 0.0'),\n",
       " Text(0.8108108108108109, 0.8636363636363636, 'x[5] <= 9.055\\nsquared_error = 0.076\\nsamples = 144\\nvalue = 0.917'),\n",
       " Text(0.7837837837837838, 0.7727272727272727, 'x[4] <= 3.25\\nsquared_error = 0.18\\nsamples = 51\\nvalue = 0.765'),\n",
       " Text(0.6756756756756757, 0.6818181818181818, 'x[0] <= 325.5\\nsquared_error = 0.245\\nsamples = 14\\nvalue = 0.571'),\n",
       " Text(0.6486486486486487, 0.5909090909090909, 'x[1] <= 101.5\\nsquared_error = 0.222\\nsamples = 12\\nvalue = 0.667'),\n",
       " Text(0.6216216216216216, 0.5, 'squared_error = 0.0\\nsamples = 1\\nvalue = 0.0'),\n",
       " Text(0.6756756756756757, 0.5, 'x[4] <= 2.75\\nsquared_error = 0.198\\nsamples = 11\\nvalue = 0.727'),\n",
       " Text(0.6216216216216216, 0.4090909090909091, 'x[5] <= 8.795\\nsquared_error = 0.222\\nsamples = 3\\nvalue = 0.333'),\n",
       " Text(0.5945945945945946, 0.3181818181818182, 'squared_error = 0.0\\nsamples = 1\\nvalue = 0.0'),\n",
       " Text(0.6486486486486487, 0.3181818181818182, 'x[3] <= 3.0\\nsquared_error = 0.25\\nsamples = 2\\nvalue = 0.5'),\n",
       " Text(0.6216216216216216, 0.22727272727272727, 'squared_error = 0.0\\nsamples = 1\\nvalue = 1.0'),\n",
       " Text(0.6756756756756757, 0.22727272727272727, 'squared_error = 0.0\\nsamples = 1\\nvalue = 0.0'),\n",
       " Text(0.7297297297297297, 0.4090909090909091, 'x[3] <= 3.75\\nsquared_error = 0.109\\nsamples = 8\\nvalue = 0.875'),\n",
       " Text(0.7027027027027027, 0.3181818181818182, 'squared_error = 0.0\\nsamples = 7\\nvalue = 1.0'),\n",
       " Text(0.7567567567567568, 0.3181818181818182, 'squared_error = 0.0\\nsamples = 1\\nvalue = 0.0'),\n",
       " Text(0.7027027027027027, 0.5909090909090909, 'squared_error = 0.0\\nsamples = 2\\nvalue = 0.0'),\n",
       " Text(0.8918918918918919, 0.6818181818181818, 'x[0] <= 320.5\\nsquared_error = 0.136\\nsamples = 37\\nvalue = 0.838'),\n",
       " Text(0.8648648648648649, 0.5909090909090909, 'x[5] <= 8.82\\nsquared_error = 0.222\\nsamples = 18\\nvalue = 0.667'),\n",
       " Text(0.8108108108108109, 0.5, 'x[0] <= 315.0\\nsquared_error = 0.222\\nsamples = 6\\nvalue = 0.333'),\n",
       " Text(0.7837837837837838, 0.4090909090909091, 'squared_error = 0.0\\nsamples = 2\\nvalue = 1.0'),\n",
       " Text(0.8378378378378378, 0.4090909090909091, 'squared_error = 0.0\\nsamples = 4\\nvalue = 0.0'),\n",
       " Text(0.918918918918919, 0.5, 'x[0] <= 310.5\\nsquared_error = 0.139\\nsamples = 12\\nvalue = 0.833'),\n",
       " Text(0.8918918918918919, 0.4090909090909091, 'squared_error = 0.0\\nsamples = 1\\nvalue = 0.0'),\n",
       " Text(0.9459459459459459, 0.4090909090909091, 'x[1] <= 106.5\\nsquared_error = 0.083\\nsamples = 11\\nvalue = 0.909'),\n",
       " Text(0.918918918918919, 0.3181818181818182, 'x[1] <= 105.0\\nsquared_error = 0.222\\nsamples = 3\\nvalue = 0.667'),\n",
       " Text(0.8918918918918919, 0.22727272727272727, 'squared_error = 0.0\\nsamples = 2\\nvalue = 1.0'),\n",
       " Text(0.9459459459459459, 0.22727272727272727, 'squared_error = 0.0\\nsamples = 1\\nvalue = 0.0'),\n",
       " Text(0.972972972972973, 0.3181818181818182, 'squared_error = 0.0\\nsamples = 8\\nvalue = 1.0'),\n",
       " Text(0.918918918918919, 0.5909090909090909, 'squared_error = 0.0\\nsamples = 19\\nvalue = 1.0'),\n",
       " Text(0.8378378378378378, 0.7727272727272727, 'squared_error = 0.0\\nsamples = 93\\nvalue = 1.0')]"
      ]
     },
     "execution_count": 19,
     "metadata": {},
     "output_type": "execute_result"
    },
    {
     "data": {
      "image/png": "[encoded data removed]",
      "text/plain": [
       "<Figure size 640x480 with 1 Axes>"
      ]
     },
     "metadata": {},
     "output_type": "display_data"
    }
   ],
   "source": [
    "tree.plot_tree(model_decisionTree)"
   ]
  },
  {
   "cell_type": "code",
   "execution_count": null,
   "id": "74b88afc",
   "metadata": {},
   "outputs": [],
   "source": []
  },
  {
   "cell_type": "code",
   "execution_count": null,
   "id": "2822df9e",
   "metadata": {},
   "outputs": [],
   "source": []
  }
 ],
 "metadata": {
  "kernelspec": {
   "display_name": "Python 3 (ipykernel)",
   "language": "python",
   "name": "python3"
  },
  "language_info": {
   "codemirror_mode": {
    "name": "ipython",
    "version": 3
   },
   "file_extension": ".py",
   "mimetype": "text/x-python",
   "name": "python",
   "nbconvert_exporter": "python",
   "pygments_lexer": "ipython3",
   "version": "3.11.4"
  }
 },
 "nbformat": 4,
 "nbformat_minor": 5
}
